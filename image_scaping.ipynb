{
 "cells": [
  {
   "cell_type": "code",
   "execution_count": 5,
   "metadata": {},
   "outputs": [
    {
     "name": "stdout",
     "output_type": "stream",
     "text": [
      "Image 1 downloaded\n",
      "Image 2 downloaded\n",
      "Image 3 downloaded\n",
      "Image 4 downloaded\n",
      "Image 5 downloaded\n",
      "Image 6 downloaded\n",
      "Image 7 downloaded\n",
      "Image 8 downloaded\n",
      "Image 9 downloaded\n",
      "Image 10 downloaded\n",
      "Image 11 downloaded\n",
      "Image 12 downloaded\n",
      "Image 13 downloaded\n",
      "Image 14 downloaded\n",
      "Image 15 downloaded\n",
      "Image 16 downloaded\n",
      "Image 17 downloaded\n",
      "Image 18 downloaded\n",
      "Image 19 downloaded\n",
      "Image 20 downloaded\n",
      "Download complete.\n"
     ]
    }
   ],
   "source": [
    "import os\n",
    "import requests\n",
    "from bs4 import BeautifulSoup\n",
    "from urllib.parse import quote_plus\n",
    "\n",
    "# Create a directory to store the downloaded images\n",
    "os.makedirs('downloaded_images', exist_ok=True)\n",
    "\n",
    "# Prompt the user for the person's name\n",
    "person_name = input(\"Enter the name of the person: \")\n",
    "query = quote_plus(person_name)\n",
    "\n",
    "# Fetch the search results page\n",
    "url = f\"https://www.google.com/search?q={query}&source=lnms&tbm=isch\"\n",
    "response = requests.get(url)\n",
    "response.raise_for_status()\n",
    "\n",
    "# Parse the HTML content using BeautifulSoup\n",
    "soup = BeautifulSoup(response.text, 'html.parser')\n",
    "\n",
    "# Find the <img> tags containing the images\n",
    "img_tags = soup.find_all('img')\n",
    "\n",
    "# Download the images\n",
    "counter = 0\n",
    "for img in img_tags:\n",
    "    if counter == 50:\n",
    "        break\n",
    "\n",
    "    image_url = img['src']\n",
    "    if image_url.startswith('http') and ('googleusercontent' in image_url or 'encrypted' in image_url):\n",
    "        try:\n",
    "            response = requests.get(image_url)\n",
    "            response.raise_for_status()\n",
    "\n",
    "            # Save the image\n",
    "            with open(f\"downloaded_images/{counter}.jpg\", \"wb\") as file:\n",
    "                file.write(response.content)\n",
    "\n",
    "            print(f\"Image {counter + 1} downloaded\")\n",
    "            counter += 1\n",
    "        except requests.exceptions.RequestException as e:\n",
    "            print(f\"Error downloading image: {e}\")\n",
    "\n",
    "print(\"Download complete.\")\n"
   ]
  }
 ],
 "metadata": {
  "kernelspec": {
   "display_name": "venv",
   "language": "python",
   "name": "python3"
  },
  "language_info": {
   "codemirror_mode": {
    "name": "ipython",
    "version": 3
   },
   "file_extension": ".py",
   "mimetype": "text/x-python",
   "name": "python",
   "nbconvert_exporter": "python",
   "pygments_lexer": "ipython3",
   "version": "3.9.0"
  },
  "orig_nbformat": 4
 },
 "nbformat": 4,
 "nbformat_minor": 2
}
